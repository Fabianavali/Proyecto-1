{
 "cells": [
  {
   "cell_type": "markdown",
   "id": "6ba3b2ef",
   "metadata": {
    "hide_input": true
   },
   "source": [
    "<span class=\"mark\">Análisis de Cohorte / Análisis de grupos de clientes</span>\n",
    "\n",
    "(Segmentación por comportamientos o una característica en común)\n",
    "\n",
    "<span class=\"mark\">Tipo de negocio objetivo : E-commerce</span>\n",
    "\n",
    "Agrupar usuarios según la fecha de su primera compra\n",
    "\n",
    "Agrupar usuarios según la fecha de la primera interacción con una campaña de MKT específica\n",
    "\n",
    "Agrupar usuarios según la primera vez que descargaron tu aplicación o visitaron tu sitio web\n",
    "\n",
    "\n",
    "*\"los E-commerce pueden utilizar el análisis de grupos de clientes para mucho más que para la retención\"*\n",
    "\n",
    "BENEFICIOS:\n",
    "\n",
    "El análisis de grupos de clientes permite comprender el comportamiento de los clientes a lo largo del tiempo, lo que es un beneficio clave. Si no se realiza la segmentación de los clientes en grupos, puede resultar difícil evaluar el impacto de estrategias como la personalización o la optimización de la conversión en el crecimiento o la disminución de la empresa.\n",
    "\n",
    "\n",
    "HACER SEGUIMIENTO Y COMPRENCIÓN DEL CHURN RATE:\n",
    "\n",
    "El churn rate es la tasa de pérdida de clientes o tasa de abandono, Pongo un ejemplo, si una empresa tiene 100 clientes al inicio del mes y al final del mismo cuenta con 90 clientes, entonces la tasa de abandono sería del 10%.\n",
    "\n",
    "IDENTIFICANDO SEGMENTOS POR COMPORTAMIENTO SE PUEDEN CREAR CAMPAÑAS Y EXPERIENCIAS PERSONALIZADAS: \n",
    "\n",
    "Por ejemplo, puedes preguntarte qué tipo de experiencias debes ofrecer a clientes que se han dado de baja recientemente, en comparación con los que regresan con frecuencia o los nuevos en tu sitio web. El análisis de cohorte te ayuda a responder estas preguntas y crear ofertas más atractivas.\n",
    "\n",
    "\n",
    "CÓMO MEJORAMOS LAS PRÁCTICAS:\n",
    "\n",
    "\n",
    "1.Optimizar campañas post-compra: Identificamos cuándo los clientes vuelven y compran nuevamente. Al convertir las métricas globales del Valor de Vida del Cliente (LTV) en medidas prácticas en periodos específicos, como 30 o 60 días, puedes evaluar eficientemente el retorno de inversión y entender los ingresos generados por los clientes en cada momento.\n",
    "\n",
    "\n",
    "2.Segmetar por propiedades: Es crucial segmentar datos por canales, campañas de marketing y productos para comprender el comportamiento único de los clientes. La comprensión profunda de la relación con la marca, especialmente entre los clientes nuevos y los inscritos en programas de fidelización, proporciona insights clave sobre segmentos de clientes importantes.\n",
    "\n",
    "\n",
    "3.Mejorar el CAC es el objetivo: Ante el aumento en los costos de adquisición, evalúo el impacto de descuentos distinguiendo entre quienes compraron con y sin descuento. Comparando sus comportamientos durante 90 días, obtengo insights sobre la lealtad o pérdidas generadas.\n",
    "\n",
    "\n",
    "4.Mejorar campañas de bienvenida: Optimizo campañas de bienvenida mediante pruebas AB y análisis de cohortes para identificar la serie más efectiva. Esto se logra observando rápidamente el comportamiento de segmentos en períodos de 30 y 60 días, convirtiendo nuevos visitantes en clientes recurrentes.\n"
   ]
  },
  {
   "cell_type": "code",
   "execution_count": 8,
   "id": "56149bff",
   "metadata": {},
   "outputs": [],
   "source": [
    "import pandas as pd \n",
    "import numpy as np\n",
    "import datetime\n",
    "import matplotlib.pyplot as plt\n",
    "import seaborn as sns\n",
    "import plotly.express as px"
   ]
  },
  {
   "cell_type": "code",
   "execution_count": 9,
   "id": "8931548a",
   "metadata": {},
   "outputs": [
    {
     "data": {
      "text/html": [
       "<div>\n",
       "<style scoped>\n",
       "    .dataframe tbody tr th:only-of-type {\n",
       "        vertical-align: middle;\n",
       "    }\n",
       "\n",
       "    .dataframe tbody tr th {\n",
       "        vertical-align: top;\n",
       "    }\n",
       "\n",
       "    .dataframe thead th {\n",
       "        text-align: right;\n",
       "    }\n",
       "</style>\n",
       "<table border=\"1\" class=\"dataframe\">\n",
       "  <thead>\n",
       "    <tr style=\"text-align: right;\">\n",
       "      <th></th>\n",
       "      <th>N° de factura</th>\n",
       "      <th>Fecha de factura</th>\n",
       "      <th>ID Cliente</th>\n",
       "      <th>País</th>\n",
       "      <th>Cantidad</th>\n",
       "      <th>Monto</th>\n",
       "    </tr>\n",
       "  </thead>\n",
       "  <tbody>\n",
       "    <tr>\n",
       "      <th>0</th>\n",
       "      <td>548370</td>\n",
       "      <td>3/30/2021 16:14:00</td>\n",
       "      <td>15528.0</td>\n",
       "      <td>United Kingdom</td>\n",
       "      <td>123</td>\n",
       "      <td>229,33</td>\n",
       "    </tr>\n",
       "    <tr>\n",
       "      <th>1</th>\n",
       "      <td>575767</td>\n",
       "      <td>11/11/2021 11:11:00</td>\n",
       "      <td>17348.0</td>\n",
       "      <td>United Kingdom</td>\n",
       "      <td>163</td>\n",
       "      <td>209,73</td>\n",
       "    </tr>\n",
       "    <tr>\n",
       "      <th>2</th>\n",
       "      <td>C570727</td>\n",
       "      <td>10/12/2021 11:32:00</td>\n",
       "      <td>12471.0</td>\n",
       "      <td>Germany</td>\n",
       "      <td>-1</td>\n",
       "      <td>-1,45</td>\n",
       "    </tr>\n",
       "    <tr>\n",
       "      <th>3</th>\n",
       "      <td>549106</td>\n",
       "      <td>4/6/2021 12:08:00</td>\n",
       "      <td>17045.0</td>\n",
       "      <td>United Kingdom</td>\n",
       "      <td>1</td>\n",
       "      <td>39,95</td>\n",
       "    </tr>\n",
       "    <tr>\n",
       "      <th>4</th>\n",
       "      <td>573112</td>\n",
       "      <td>10/27/2021 15:33:00</td>\n",
       "      <td>16416.0</td>\n",
       "      <td>United Kingdom</td>\n",
       "      <td>357</td>\n",
       "      <td>344,83</td>\n",
       "    </tr>\n",
       "  </tbody>\n",
       "</table>\n",
       "</div>"
      ],
      "text/plain": [
       "  N° de factura     Fecha de factura  ID Cliente            País  Cantidad  \\\n",
       "0        548370   3/30/2021 16:14:00     15528.0  United Kingdom       123   \n",
       "1        575767  11/11/2021 11:11:00     17348.0  United Kingdom       163   \n",
       "2       C570727  10/12/2021 11:32:00     12471.0         Germany        -1   \n",
       "3        549106    4/6/2021 12:08:00     17045.0  United Kingdom         1   \n",
       "4        573112  10/27/2021 15:33:00     16416.0  United Kingdom       357   \n",
       "\n",
       "    Monto  \n",
       "0  229,33  \n",
       "1  209,73  \n",
       "2   -1,45  \n",
       "3   39,95  \n",
       "4  344,83  "
      ]
     },
     "execution_count": 9,
     "metadata": {},
     "output_type": "execute_result"
    }
   ],
   "source": [
    "data = pd.read_csv('ventas-por-factura.csv')\n",
    "data.head()"
   ]
  },
  {
   "cell_type": "code",
   "execution_count": 10,
   "id": "3b1fc58c",
   "metadata": {
    "code_folding": [
     0
    ]
   },
   "outputs": [
    {
     "name": "stdout",
     "output_type": "stream",
     "text": [
      "N° de factura        object\n",
      "Fecha de factura     object\n",
      "ID Cliente          float64\n",
      "País                 object\n",
      "Cantidad              int64\n",
      "Monto               float64\n",
      "dtype: object\n"
     ]
    }
   ],
   "source": [
    "# Reemplazar la coma por el punto decimal y convertir a float\n",
    "data['Monto'] = data['Monto'].str.replace(',', '.').astype(float)\n",
    "\n",
    "# Verificar el tipo de dato de la columna\n",
    "print(data.dtypes)\n"
   ]
  },
  {
   "cell_type": "markdown",
   "id": "3221106e",
   "metadata": {},
   "source": [
    "A simple vista podemos interpretar ese registro de la siguiente forma: el cliente ID 15528 de United Kingdom hizo una compra el 30 de marzo del 2021 a las 4:14PM por un monto de 229.33 libras esterlinas que incluye 123 productos, y que generó la factura cuyo número es el 548370."
   ]
  },
  {
   "cell_type": "code",
   "execution_count": 11,
   "id": "48d2bfc9",
   "metadata": {
    "code_folding": [
     0
    ]
   },
   "outputs": [
    {
     "data": {
      "text/plain": [
       "N° de factura          0\n",
       "Fecha de factura       0\n",
       "ID Cliente          3724\n",
       "País                   0\n",
       "Cantidad               0\n",
       "Monto                  0\n",
       "dtype: int64"
      ]
     },
     "execution_count": 11,
     "metadata": {},
     "output_type": "execute_result"
    }
   ],
   "source": [
    "#Realizaremos una revisión básica sobre los datos, para asegurarnos de no tener nulos o vacíos,\n",
    "#de ser así según mi criterio procederé a anular o completar:\n",
    "data.isnull().sum()"
   ]
  },
  {
   "cell_type": "code",
   "execution_count": 12,
   "id": "c5441577",
   "metadata": {
    "code_folding": [
     0
    ]
   },
   "outputs": [
    {
     "data": {
      "text/plain": [
       "N° de factura       0\n",
       "Fecha de factura    0\n",
       "ID Cliente          0\n",
       "País                0\n",
       "Cantidad            0\n",
       "Monto               0\n",
       "dtype: int64"
      ]
     },
     "execution_count": 12,
     "metadata": {},
     "output_type": "execute_result"
    }
   ],
   "source": [
    "# Eliminar las filas con valores vacíos en la columna \"ID de cliente\"\n",
    "data = data.dropna(subset=['ID Cliente'])\n",
    "\n",
    "data.isnull().sum()"
   ]
  },
  {
   "cell_type": "markdown",
   "id": "fe4ad02b",
   "metadata": {},
   "source": [
    "Noya: Voy a centrarme en verificar si tenemos Nº de Factura duplicados ya que se supone que cada factura tiene un valor único, entonces si encontramos otra fila con el mismo número de factura debería ser borrado. Utilizaré una función que nos devuelva una serie booleana indicando True si el valor de la fila es un duplicado de un valor anterior en la columna, y False si no lo es.  Para contar los valores duplicados, se puede usar la función sum() en la serie booleana de duplicados:"
   ]
  },
  {
   "cell_type": "code",
   "execution_count": 13,
   "id": "1e226732",
   "metadata": {},
   "outputs": [
    {
     "data": {
      "text/plain": [
       "0        False\n",
       "1        False\n",
       "2        False\n",
       "3        False\n",
       "4        False\n",
       "         ...  \n",
       "25947     True\n",
       "25948     True\n",
       "25949     True\n",
       "25950     True\n",
       "25951     True\n",
       "Name: ID Cliente, Length: 22229, dtype: bool"
      ]
     },
     "execution_count": 13,
     "metadata": {},
     "output_type": "execute_result"
    }
   ],
   "source": [
    "duplicados = data['ID Cliente'].duplicated()\n",
    "duplicados"
   ]
  },
  {
   "cell_type": "code",
   "execution_count": 14,
   "id": "6c471b36",
   "metadata": {},
   "outputs": [
    {
     "data": {
      "text/plain": [
       "17857"
      ]
     },
     "execution_count": 14,
     "metadata": {},
     "output_type": "execute_result"
    }
   ],
   "source": [
    "num_duplicados = duplicados.sum()\n",
    "num_duplicados"
   ]
  },
  {
   "cell_type": "code",
   "execution_count": 15,
   "id": "287424fa",
   "metadata": {
    "code_folding": [
     0
    ]
   },
   "outputs": [
    {
     "data": {
      "text/plain": [
       "0        False\n",
       "1        False\n",
       "2        False\n",
       "3        False\n",
       "4        False\n",
       "         ...  \n",
       "25858    False\n",
       "25862    False\n",
       "25903    False\n",
       "25924    False\n",
       "25941    False\n",
       "Name: ID Cliente, Length: 4372, dtype: bool"
      ]
     },
     "execution_count": 15,
     "metadata": {},
     "output_type": "execute_result"
    }
   ],
   "source": [
    "#Crearé un nuevo DataFrame llamado df que contiene solo las filas únicas en la columna \"ID Cliente\"\n",
    "#del DataFrame original data y debajo mostraré que ahora la\n",
    "#serie booleana es devuelta toda como False:\n",
    "\n",
    "df = data.drop_duplicates(subset=['ID Cliente'])\n",
    "df['ID Cliente'].duplicated()"
   ]
  },
  {
   "cell_type": "markdown",
   "id": "821394eb",
   "metadata": {},
   "source": [
    "Nota: En el Dataframe podemos observar las facturas que comienzan con la letra C corresponden a devoluciones , al ser valores negativos no vamos a tratarlos, nos vamos a centrar en las ventas y no en las devoluciones."
   ]
  },
  {
   "cell_type": "code",
   "execution_count": 16,
   "id": "2cc857e8",
   "metadata": {
    "code_folding": [
     0
    ]
   },
   "outputs": [
    {
     "data": {
      "text/html": [
       "<div>\n",
       "<style scoped>\n",
       "    .dataframe tbody tr th:only-of-type {\n",
       "        vertical-align: middle;\n",
       "    }\n",
       "\n",
       "    .dataframe tbody tr th {\n",
       "        vertical-align: top;\n",
       "    }\n",
       "\n",
       "    .dataframe thead th {\n",
       "        text-align: right;\n",
       "    }\n",
       "</style>\n",
       "<table border=\"1\" class=\"dataframe\">\n",
       "  <thead>\n",
       "    <tr style=\"text-align: right;\">\n",
       "      <th></th>\n",
       "      <th>N° de factura</th>\n",
       "      <th>Fecha de factura</th>\n",
       "      <th>ID Cliente</th>\n",
       "      <th>País</th>\n",
       "      <th>Cantidad</th>\n",
       "      <th>Monto</th>\n",
       "    </tr>\n",
       "  </thead>\n",
       "  <tbody>\n",
       "    <tr>\n",
       "      <th>0</th>\n",
       "      <td>548370</td>\n",
       "      <td>3/30/2021 16:14:00</td>\n",
       "      <td>15528.0</td>\n",
       "      <td>United Kingdom</td>\n",
       "      <td>123</td>\n",
       "      <td>229.33</td>\n",
       "    </tr>\n",
       "    <tr>\n",
       "      <th>1</th>\n",
       "      <td>575767</td>\n",
       "      <td>11/11/2021 11:11:00</td>\n",
       "      <td>17348.0</td>\n",
       "      <td>United Kingdom</td>\n",
       "      <td>163</td>\n",
       "      <td>209.73</td>\n",
       "    </tr>\n",
       "    <tr>\n",
       "      <th>3</th>\n",
       "      <td>549106</td>\n",
       "      <td>4/6/2021 12:08:00</td>\n",
       "      <td>17045.0</td>\n",
       "      <td>United Kingdom</td>\n",
       "      <td>1</td>\n",
       "      <td>39.95</td>\n",
       "    </tr>\n",
       "    <tr>\n",
       "      <th>4</th>\n",
       "      <td>573112</td>\n",
       "      <td>10/27/2021 15:33:00</td>\n",
       "      <td>16416.0</td>\n",
       "      <td>United Kingdom</td>\n",
       "      <td>357</td>\n",
       "      <td>344.83</td>\n",
       "    </tr>\n",
       "    <tr>\n",
       "      <th>5</th>\n",
       "      <td>576630</td>\n",
       "      <td>11/16/2021 8:38:00</td>\n",
       "      <td>13816.0</td>\n",
       "      <td>Germany</td>\n",
       "      <td>91</td>\n",
       "      <td>199.98</td>\n",
       "    </tr>\n",
       "    <tr>\n",
       "      <th>...</th>\n",
       "      <td>...</td>\n",
       "      <td>...</td>\n",
       "      <td>...</td>\n",
       "      <td>...</td>\n",
       "      <td>...</td>\n",
       "      <td>...</td>\n",
       "    </tr>\n",
       "    <tr>\n",
       "      <th>25841</th>\n",
       "      <td>566405</td>\n",
       "      <td>9/12/2021 13:41:00</td>\n",
       "      <td>17919.0</td>\n",
       "      <td>United Kingdom</td>\n",
       "      <td>756</td>\n",
       "      <td>1304.04</td>\n",
       "    </tr>\n",
       "    <tr>\n",
       "      <th>25858</th>\n",
       "      <td>568100</td>\n",
       "      <td>9/23/2021 15:20:00</td>\n",
       "      <td>15475.0</td>\n",
       "      <td>United Kingdom</td>\n",
       "      <td>319</td>\n",
       "      <td>454.11</td>\n",
       "    </tr>\n",
       "    <tr>\n",
       "      <th>25903</th>\n",
       "      <td>558294</td>\n",
       "      <td>6/28/2021 10:37:00</td>\n",
       "      <td>16545.0</td>\n",
       "      <td>United Kingdom</td>\n",
       "      <td>78</td>\n",
       "      <td>339.30</td>\n",
       "    </tr>\n",
       "    <tr>\n",
       "      <th>25924</th>\n",
       "      <td>568215</td>\n",
       "      <td>9/26/2021 8:38:00</td>\n",
       "      <td>13390.0</td>\n",
       "      <td>United Kingdom</td>\n",
       "      <td>224</td>\n",
       "      <td>544.08</td>\n",
       "    </tr>\n",
       "    <tr>\n",
       "      <th>25941</th>\n",
       "      <td>542731</td>\n",
       "      <td>1/31/2021 15:27:00</td>\n",
       "      <td>13600.0</td>\n",
       "      <td>United Kingdom</td>\n",
       "      <td>324</td>\n",
       "      <td>219.52</td>\n",
       "    </tr>\n",
       "  </tbody>\n",
       "</table>\n",
       "<p>3844 rows × 6 columns</p>\n",
       "</div>"
      ],
      "text/plain": [
       "      N° de factura     Fecha de factura  ID Cliente            País  \\\n",
       "0            548370   3/30/2021 16:14:00     15528.0  United Kingdom   \n",
       "1            575767  11/11/2021 11:11:00     17348.0  United Kingdom   \n",
       "3            549106    4/6/2021 12:08:00     17045.0  United Kingdom   \n",
       "4            573112  10/27/2021 15:33:00     16416.0  United Kingdom   \n",
       "5            576630   11/16/2021 8:38:00     13816.0         Germany   \n",
       "...             ...                  ...         ...             ...   \n",
       "25841        566405   9/12/2021 13:41:00     17919.0  United Kingdom   \n",
       "25858        568100   9/23/2021 15:20:00     15475.0  United Kingdom   \n",
       "25903        558294   6/28/2021 10:37:00     16545.0  United Kingdom   \n",
       "25924        568215    9/26/2021 8:38:00     13390.0  United Kingdom   \n",
       "25941        542731   1/31/2021 15:27:00     13600.0  United Kingdom   \n",
       "\n",
       "       Cantidad    Monto  \n",
       "0           123   229.33  \n",
       "1           163   209.73  \n",
       "3             1    39.95  \n",
       "4           357   344.83  \n",
       "5            91   199.98  \n",
       "...         ...      ...  \n",
       "25841       756  1304.04  \n",
       "25858       319   454.11  \n",
       "25903        78   339.30  \n",
       "25924       224   544.08  \n",
       "25941       324   219.52  \n",
       "\n",
       "[3844 rows x 6 columns]"
      ]
     },
     "execution_count": 16,
     "metadata": {},
     "output_type": "execute_result"
    }
   ],
   "source": [
    "#Este sería el DF con el que vamos a realizar el análisis de métricas de ventas\n",
    "#Eliminaré filas que contengan valores negativos en la columna 'Cantidad'\n",
    "df = df[df['Cantidad'] >= 0]\n",
    "df"
   ]
  },
  {
   "cell_type": "code",
   "execution_count": 27,
   "id": "f5860dae",
   "metadata": {
    "code_folding": []
   },
   "outputs": [
    {
     "data": {
      "text/plain": [
       "N° de factura        object\n",
       "Fecha de factura     object\n",
       "ID Cliente          float64\n",
       "País                 object\n",
       "Cantidad              int64\n",
       "Monto               float64\n",
       "dtype: object"
      ]
     },
     "execution_count": 27,
     "metadata": {},
     "output_type": "execute_result"
    }
   ],
   "source": [
    "# Ahora realizaremos un análisis utilizando la columna Fecha de factura\n",
    "# Vamos a modificar si es necesario el Dtype y luego \n",
    "df.dtypes"
   ]
  },
  {
   "cell_type": "code",
   "execution_count": 30,
   "id": "2373514a",
   "metadata": {
    "code_folding": []
   },
   "outputs": [
    {
     "name": "stdout",
     "output_type": "stream",
     "text": [
      "N° de factura               object\n",
      "Fecha de factura    datetime64[ns]\n",
      "ID Cliente                 float64\n",
      "País                        object\n",
      "Cantidad                     int64\n",
      "Monto                      float64\n",
      "Año                          int64\n",
      "Mes                          int64\n",
      "dtype: object\n"
     ]
    }
   ],
   "source": [
    "# Convertir la columna 'Fecha de factura' a formato de fecha\n",
    "df['Fecha de factura'] = pd.to_datetime(df['Fecha de factura'])\n",
    "\n",
    "# Crear nuevas columnas 'Año' y 'Mes' a partir de 'Fecha de factura'\n",
    "df['Año'] = df['Fecha de factura'].dt.year\n",
    "df['Mes'] = df['Fecha de factura'].dt.month\n",
    "\n",
    "# Verificar los tipos de datos\n",
    "print(df.dtypes)"
   ]
  },
  {
   "cell_type": "markdown",
   "id": "f463c917",
   "metadata": {},
   "source": [
    "## Número de facturas por país y el porcentaje que representa:"
   ]
  },
  {
   "cell_type": "code",
   "execution_count": 59,
   "id": "0fa47c0c",
   "metadata": {
    "code_folding": [
     0
    ]
   },
   "outputs": [
    {
     "data": {
      "image/png": "[encoded data removed]",
      "text/plain": [
       "<Figure size 864x432 with 1 Axes>"
      ]
     },
     "metadata": {},
     "output_type": "display_data"
    },
    {
     "name": "stdout",
     "output_type": "stream",
     "text": [
      "              País  N° de factura  Porcentaje\n",
      "33  United Kingdom           3486       90.69\n",
      "14         Germany             75        1.95\n",
      "13          France             74        1.93\n",
      "28           Spain             26        0.68\n",
      "3          Belgium             20        0.52\n",
      "30     Switzerland             19        0.49\n",
      "26        Portugal             17        0.44\n",
      "18           Italy             12        0.31\n",
      "24          Norway             10        0.26\n",
      "12         Finland             10        0.26\n"
     ]
    }
   ],
   "source": [
    "# Agrupar y contar el número de facturas por país\n",
    "facturas_por_pais = df.groupby('País')['N° de factura'].count().reset_index()\n",
    "\n",
    "# Calcular el porcentaje de las facturas que representa cada país\n",
    "facturas_por_pais['Porcentaje'] = (facturas_por_pais['N° de factura'] / facturas_por_pais['N° de factura'].sum() * 100).round(2)\n",
    "\n",
    "# Mostrar el top 10 de países por porcentaje de facturas\n",
    "top_10_paises = facturas_por_pais.sort_values(by='Porcentaje', ascending=False).head(10)\n",
    "\n",
    "# Graficar con Seaborn\n",
    "sns.set(style=\"whitegrid\")\n",
    "plt.figure(figsize=(12, 6))\n",
    "\n",
    "# Usar un gráfico de barras\n",
    "plot = sns.barplot(x='País', y='Porcentaje', data=top_10_paises, palette='viridis')\n",
    "\n",
    "# Agregar títulos y etiquetas\n",
    "plt.title('Top 10 Países con Mayor Porcentaje de Facturas')\n",
    "plt.xlabel('País')\n",
    "plt.ylabel('Porcentaje de Facturas')\n",
    "\n",
    "# Mostrar valores en las barras\n",
    "for p in plot.patches:\n",
    "    plot.annotate(format(p.get_height(), '.2f') + '%', \n",
    "                  (p.get_x() + p.get_width() / 2., p.get_height()), \n",
    "                  ha='center', va='center', \n",
    "                  xytext=(0, 10), \n",
    "                  textcoords='offset points')\n",
    "\n",
    "plt.show()\n",
    "\n",
    "# Mostrar el resultado tabular\n",
    "print(top_10_paises)"
   ]
  },
  {
   "cell_type": "markdown",
   "id": "869d60b8",
   "metadata": {},
   "source": [
    "Nota: Los clientes del Reino Unido son los que más compran en el supermercado, lo cual es comprensible ya que es el país de origen del negocio."
   ]
  },
  {
   "cell_type": "markdown",
   "id": "21fa3731",
   "metadata": {},
   "source": [
    "## Análisis del monto total por país"
   ]
  },
  {
   "cell_type": "code",
   "execution_count": 62,
   "id": "178d672e",
   "metadata": {
    "code_folding": [
     0
    ]
   },
   "outputs": [
    {
     "data": {
      "text/html": [
       "<div>\n",
       "<style scoped>\n",
       "    .dataframe tbody tr th:only-of-type {\n",
       "        vertical-align: middle;\n",
       "    }\n",
       "\n",
       "    .dataframe tbody tr th {\n",
       "        vertical-align: top;\n",
       "    }\n",
       "\n",
       "    .dataframe thead th {\n",
       "        text-align: right;\n",
       "    }\n",
       "</style>\n",
       "<table border=\"1\" class=\"dataframe\">\n",
       "  <thead>\n",
       "    <tr style=\"text-align: right;\">\n",
       "      <th></th>\n",
       "      <th>País</th>\n",
       "      <th>Nº de Factura</th>\n",
       "      <th>Monto Total</th>\n",
       "      <th>Monto Promedio</th>\n",
       "      <th>Monto Mínimo</th>\n",
       "      <th>Monto Máximo</th>\n",
       "      <th>Porcentaje</th>\n",
       "    </tr>\n",
       "  </thead>\n",
       "  <tbody>\n",
       "    <tr>\n",
       "      <th>33</th>\n",
       "      <td>United Kingdom</td>\n",
       "      <td>3486</td>\n",
       "      <td>1159364.45</td>\n",
       "      <td>332.58</td>\n",
       "      <td>0.00</td>\n",
       "      <td>5727.00</td>\n",
       "      <td>82.66</td>\n",
       "    </tr>\n",
       "    <tr>\n",
       "      <th>14</th>\n",
       "      <td>Germany</td>\n",
       "      <td>75</td>\n",
       "      <td>32135.85</td>\n",
       "      <td>428.48</td>\n",
       "      <td>18.00</td>\n",
       "      <td>1179.64</td>\n",
       "      <td>2.29</td>\n",
       "    </tr>\n",
       "    <tr>\n",
       "      <th>13</th>\n",
       "      <td>France</td>\n",
       "      <td>74</td>\n",
       "      <td>29691.34</td>\n",
       "      <td>401.23</td>\n",
       "      <td>4.63</td>\n",
       "      <td>4279.71</td>\n",
       "      <td>2.12</td>\n",
       "    </tr>\n",
       "    <tr>\n",
       "      <th>30</th>\n",
       "      <td>Switzerland</td>\n",
       "      <td>19</td>\n",
       "      <td>21636.10</td>\n",
       "      <td>1138.74</td>\n",
       "      <td>68.00</td>\n",
       "      <td>6207.67</td>\n",
       "      <td>1.54</td>\n",
       "    </tr>\n",
       "    <tr>\n",
       "      <th>28</th>\n",
       "      <td>Spain</td>\n",
       "      <td>26</td>\n",
       "      <td>15815.29</td>\n",
       "      <td>608.28</td>\n",
       "      <td>78.56</td>\n",
       "      <td>3528.34</td>\n",
       "      <td>1.13</td>\n",
       "    </tr>\n",
       "  </tbody>\n",
       "</table>\n",
       "</div>"
      ],
      "text/plain": [
       "              País  Nº de Factura  Monto Total  Monto Promedio  Monto Mínimo  \\\n",
       "33  United Kingdom           3486   1159364.45          332.58          0.00   \n",
       "14         Germany             75     32135.85          428.48         18.00   \n",
       "13          France             74     29691.34          401.23          4.63   \n",
       "30     Switzerland             19     21636.10         1138.74         68.00   \n",
       "28           Spain             26     15815.29          608.28         78.56   \n",
       "\n",
       "    Monto Máximo  Porcentaje  \n",
       "33       5727.00       82.66  \n",
       "14       1179.64        2.29  \n",
       "13       4279.71        2.12  \n",
       "30       6207.67        1.54  \n",
       "28       3528.34        1.13  "
      ]
     },
     "execution_count": 62,
     "metadata": {},
     "output_type": "execute_result"
    }
   ],
   "source": [
    "#\n",
    "facturas_total = df.groupby('País')['Monto'].agg(['count', 'sum', 'mean', 'min', 'max']).reset_index().round(2)\n",
    "facturas_total = facturas_total.rename(columns={'count': 'Nº de Factura','sum': 'Monto Total', 'mean': 'Monto Promedio', 'min': 'Monto Mínimo', 'max': 'Monto Máximo'})\n",
    "\n",
    "\n",
    "# calcular el porcentaje del total de cada país\n",
    "facturas_total['Porcentaje'] = (facturas_total['Monto Total'] / facturas_total['Monto Total'].sum() *100).round(2)\n",
    "\n",
    "# mostrar el resultado\n",
    "facturas_total.sort_values(by='Porcentaje', ascending=False).head()\n"
   ]
  },
  {
   "cell_type": "code",
   "execution_count": 33,
   "id": "442feb7a",
   "metadata": {
    "code_folding": [
     0
    ],
    "scrolled": true
   },
   "outputs": [
    {
     "data": {
      "image/png": "[encoded data removed]",
      "text/plain": [
       "<Figure size 720x288 with 1 Axes>"
      ]
     },
     "metadata": {},
     "output_type": "display_data"
    }
   ],
   "source": [
    "#Graficamos\n",
    "\n",
    "top_5_paises = facturas_total.sort_values(by='Porcentaje', ascending=False).head()\n",
    "paises = top_5_paises['País']\n",
    "porcentajes = top_5_paises['Porcentaje']\n",
    "\n",
    "sns.set_style(\"darkgrid\")\n",
    "plt.figure(figsize=(10,4))\n",
    "bars = sns.barplot(x=paises.values, y=porcentajes.values, palette='rocket')\n",
    "\n",
    "# agregar títulos y porcentajes al gráfico\n",
    "plt.title('Top 5 países por porcentaje de facturación')\n",
    "plt.xlabel('País')\n",
    "plt.ylabel('Porcentaje')\n",
    "\n",
    "bars.set_xticklabels(paises)\n",
    "\n",
    "for bar, porcentaje in zip(bars.containers[0], porcentajes):\n",
    "    plt.text(bar.get_x() + bar.get_width() / 2, bar.get_height() + 0.5, f'{porcentaje:.2f}%', ha='center', va='bottom')\n",
    "\n",
    "plt.show()\n"
   ]
  },
  {
   "cell_type": "markdown",
   "id": "394b2888",
   "metadata": {},
   "source": [
    "Nota: A pesar de la alta representación de UK en ventas, el monto promedio de las transacciones es menor en comparación con otros países que tienen un menor número de facturas. Esto podría indicar diferencias significativas en los patrones de gasto entre los países."
   ]
  },
  {
   "cell_type": "markdown",
   "id": "a67cc040",
   "metadata": {},
   "source": [
    "## Facturación generada por mes"
   ]
  },
  {
   "cell_type": "code",
   "execution_count": 63,
   "id": "c86691e2",
   "metadata": {
    "code_folding": [
     0
    ]
   },
   "outputs": [
    {
     "data": {
      "text/html": [
       "<div>\n",
       "<style scoped>\n",
       "    .dataframe tbody tr th:only-of-type {\n",
       "        vertical-align: middle;\n",
       "    }\n",
       "\n",
       "    .dataframe tbody tr th {\n",
       "        vertical-align: top;\n",
       "    }\n",
       "\n",
       "    .dataframe thead th {\n",
       "        text-align: right;\n",
       "    }\n",
       "</style>\n",
       "<table border=\"1\" class=\"dataframe\">\n",
       "  <thead>\n",
       "    <tr style=\"text-align: right;\">\n",
       "      <th></th>\n",
       "      <th>N° de factura</th>\n",
       "      <th>Fecha de factura</th>\n",
       "      <th>ID Cliente</th>\n",
       "      <th>País</th>\n",
       "      <th>Cantidad</th>\n",
       "      <th>Monto</th>\n",
       "      <th>Año</th>\n",
       "      <th>Mes</th>\n",
       "      <th>Pertenece a UK</th>\n",
       "      <th>Año-Mes</th>\n",
       "    </tr>\n",
       "  </thead>\n",
       "  <tbody>\n",
       "    <tr>\n",
       "      <th>0</th>\n",
       "      <td>548370</td>\n",
       "      <td>2021-03-30 16:14:00</td>\n",
       "      <td>15528.0</td>\n",
       "      <td>United Kingdom</td>\n",
       "      <td>123</td>\n",
       "      <td>229.33</td>\n",
       "      <td>2021</td>\n",
       "      <td>03</td>\n",
       "      <td>SI</td>\n",
       "      <td>2021-03</td>\n",
       "    </tr>\n",
       "    <tr>\n",
       "      <th>1</th>\n",
       "      <td>575767</td>\n",
       "      <td>2021-11-11 11:11:00</td>\n",
       "      <td>17348.0</td>\n",
       "      <td>United Kingdom</td>\n",
       "      <td>163</td>\n",
       "      <td>209.73</td>\n",
       "      <td>2021</td>\n",
       "      <td>11</td>\n",
       "      <td>SI</td>\n",
       "      <td>2021-11</td>\n",
       "    </tr>\n",
       "    <tr>\n",
       "      <th>3</th>\n",
       "      <td>549106</td>\n",
       "      <td>2021-04-06 12:08:00</td>\n",
       "      <td>17045.0</td>\n",
       "      <td>United Kingdom</td>\n",
       "      <td>1</td>\n",
       "      <td>39.95</td>\n",
       "      <td>2021</td>\n",
       "      <td>04</td>\n",
       "      <td>SI</td>\n",
       "      <td>2021-04</td>\n",
       "    </tr>\n",
       "    <tr>\n",
       "      <th>4</th>\n",
       "      <td>573112</td>\n",
       "      <td>2021-10-27 15:33:00</td>\n",
       "      <td>16416.0</td>\n",
       "      <td>United Kingdom</td>\n",
       "      <td>357</td>\n",
       "      <td>344.83</td>\n",
       "      <td>2021</td>\n",
       "      <td>10</td>\n",
       "      <td>SI</td>\n",
       "      <td>2021-10</td>\n",
       "    </tr>\n",
       "    <tr>\n",
       "      <th>5</th>\n",
       "      <td>576630</td>\n",
       "      <td>2021-11-16 08:38:00</td>\n",
       "      <td>13816.0</td>\n",
       "      <td>Germany</td>\n",
       "      <td>91</td>\n",
       "      <td>199.98</td>\n",
       "      <td>2021</td>\n",
       "      <td>11</td>\n",
       "      <td>NO</td>\n",
       "      <td>2021-11</td>\n",
       "    </tr>\n",
       "  </tbody>\n",
       "</table>\n",
       "</div>"
      ],
      "text/plain": [
       "  N° de factura    Fecha de factura  ID Cliente            País  Cantidad  \\\n",
       "0        548370 2021-03-30 16:14:00     15528.0  United Kingdom       123   \n",
       "1        575767 2021-11-11 11:11:00     17348.0  United Kingdom       163   \n",
       "3        549106 2021-04-06 12:08:00     17045.0  United Kingdom         1   \n",
       "4        573112 2021-10-27 15:33:00     16416.0  United Kingdom       357   \n",
       "5        576630 2021-11-16 08:38:00     13816.0         Germany        91   \n",
       "\n",
       "    Monto   Año Mes Pertenece a UK  Año-Mes  \n",
       "0  229.33  2021  03             SI  2021-03  \n",
       "1  209.73  2021  11             SI  2021-11  \n",
       "3   39.95  2021  04             SI  2021-04  \n",
       "4  344.83  2021  10             SI  2021-10  \n",
       "5  199.98  2021  11             NO  2021-11  "
      ]
     },
     "execution_count": 63,
     "metadata": {},
     "output_type": "execute_result"
    }
   ],
   "source": [
    "#Revisamos\n",
    "df['Mes'] = df['Fecha de factura'].apply(lambda x: datetime.datetime.strftime(x, '%m'))\n",
    "df['Año'] = df['Fecha de factura'].apply(lambda x: datetime.datetime.strftime(x, '%Y'))\n",
    "\n",
    "#Mostramos resultado\n",
    "df.head()"
   ]
  },
  {
   "cell_type": "code",
   "execution_count": 38,
   "id": "f0e91153",
   "metadata": {
    "code_folding": [
     0
    ]
   },
   "outputs": [
    {
     "data": {
      "image/png": "[encoded data removed]",
      "text/plain": [
       "<Figure size 864x432 with 1 Axes>"
      ]
     },
     "metadata": {},
     "output_type": "display_data"
    }
   ],
   "source": [
    "# Agrupar las ventas por país\n",
    "ventas_por_pais = df.groupby('País')['Monto'].sum().reset_index()\n",
    "\n",
    "# Ordenar por ventas descendentes y seleccionar las primeras 5 filas\n",
    "top_5_paises = ventas_por_pais.sort_values(by='Monto', ascending=False).head()\n",
    "\n",
    "# Graficar con Seaborn\n",
    "sns.set(style=\"whitegrid\")\n",
    "plt.figure(figsize=(12, 6))\n",
    "\n",
    "# Usar un gráfico de barras\n",
    "plot = sns.barplot(x='País', y='Monto', data=top_5_paises, palette='viridis')\n",
    "\n",
    "# Agregar títulos y etiquetas\n",
    "plt.title('Top 5 Países con Mejores Ventas')\n",
    "plt.xlabel('Países')\n",
    "plt.ylabel('Monto')\n",
    "\n",
    "# Mostrar valores en las barras\n",
    "for p in plot.patches:\n",
    "    plot.annotate(format(p.get_height(), '.2f'), \n",
    "                  (p.get_x() + p.get_width() / 2., p.get_height()), \n",
    "                  ha = 'center', va = 'center', \n",
    "                  xytext = (0, 10), \n",
    "                  textcoords = 'offset points')\n",
    "\n",
    "plt.show()"
   ]
  },
  {
   "cell_type": "markdown",
   "id": "7a2991c0",
   "metadata": {},
   "source": [
    "Nota: Encontramos una brecha considerable en ventas teniendo a UK como el comercio más rentable."
   ]
  },
  {
   "cell_type": "markdown",
   "id": "734ada0d",
   "metadata": {},
   "source": [
    "## Facturación por Año"
   ]
  },
  {
   "cell_type": "code",
   "execution_count": 40,
   "id": "f4c63fb2",
   "metadata": {
    "code_folding": [
     0
    ]
   },
   "outputs": [
    {
     "data": {
      "image/png": "[encoded data removed]",
      "text/plain": [
       "<Figure size 720x288 with 1 Axes>"
      ]
     },
     "metadata": {},
     "output_type": "display_data"
    }
   ],
   "source": [
    "#Agrupar las ventas por año\n",
    "ventas_por_año = df.groupby(['Año'])['Monto'].sum()\n",
    "\n",
    "# ordenar los datos por relevancia de ventas por mes de forma descendente\n",
    "ventas_por_año = ventas_por_año.sort_values(ascending=False)\n",
    "\n",
    "# Graficar las ventas por año\n",
    "año = df['Año'].value_counts()\n",
    "sns.set_style(\"darkgrid\")\n",
    "plt.figure(figsize=(10,4))\n",
    "sns.barplot(x = año.index, y = año.values, palette='rocket')\n",
    "\n",
    "# agregar títulos y porcentajes al gráfico\n",
    "plt.title('Número de facturación por año')\n",
    "plt.xlabel('Año')\n",
    "plt.ylabel('Monto')\n",
    "\n",
    "\n",
    "# agregar los porcentajes a las barras del gráfico\n",
    "for i, v in enumerate(año.values):\n",
    "    plt.text(i, v, f'{v:.1f}', color='black', ha='center')\n",
    "    \n",
    "plt.show()"
   ]
  },
  {
   "cell_type": "markdown",
   "id": "9dabecbf",
   "metadata": {},
   "source": [
    "Nota: Notamos un increible crecimiento durante el año 2021 en comparación al anterior, aunque no podemos asegurar que marcó la diferencia debido a que solo contamos con la base de datos de un año, aún así es evidente el nivel de ventas que mantuvo en ese periodo"
   ]
  },
  {
   "cell_type": "markdown",
   "id": "efe4c537",
   "metadata": {},
   "source": [
    "## Segmentación de clientes fuera de UK"
   ]
  },
  {
   "cell_type": "markdown",
   "id": "1944c46a",
   "metadata": {},
   "source": [
    "Debido al amplio mercado que tiene UK Merch fuera de territorio UK, vamos a segmentar para analizar las ventas generadas y que oprtunidades podemos encontrar"
   ]
  },
  {
   "cell_type": "code",
   "execution_count": 46,
   "id": "d5182b3e",
   "metadata": {
    "code_folding": [
     0
    ]
   },
   "outputs": [
    {
     "data": {
      "text/html": [
       "<div>\n",
       "<style scoped>\n",
       "    .dataframe tbody tr th:only-of-type {\n",
       "        vertical-align: middle;\n",
       "    }\n",
       "\n",
       "    .dataframe tbody tr th {\n",
       "        vertical-align: top;\n",
       "    }\n",
       "\n",
       "    .dataframe thead th {\n",
       "        text-align: right;\n",
       "    }\n",
       "</style>\n",
       "<table border=\"1\" class=\"dataframe\">\n",
       "  <thead>\n",
       "    <tr style=\"text-align: right;\">\n",
       "      <th></th>\n",
       "      <th>N° de factura</th>\n",
       "      <th>Fecha de factura</th>\n",
       "      <th>ID Cliente</th>\n",
       "      <th>País</th>\n",
       "      <th>Cantidad</th>\n",
       "      <th>Monto</th>\n",
       "      <th>Año</th>\n",
       "      <th>Mes</th>\n",
       "      <th>Pertenece a UK</th>\n",
       "      <th>Año-Mes</th>\n",
       "    </tr>\n",
       "  </thead>\n",
       "  <tbody>\n",
       "    <tr>\n",
       "      <th>0</th>\n",
       "      <td>548370</td>\n",
       "      <td>2021-03-30 16:14:00</td>\n",
       "      <td>15528.0</td>\n",
       "      <td>United Kingdom</td>\n",
       "      <td>123</td>\n",
       "      <td>229.33</td>\n",
       "      <td>2021</td>\n",
       "      <td>03</td>\n",
       "      <td>SI</td>\n",
       "      <td>2021-03</td>\n",
       "    </tr>\n",
       "    <tr>\n",
       "      <th>1</th>\n",
       "      <td>575767</td>\n",
       "      <td>2021-11-11 11:11:00</td>\n",
       "      <td>17348.0</td>\n",
       "      <td>United Kingdom</td>\n",
       "      <td>163</td>\n",
       "      <td>209.73</td>\n",
       "      <td>2021</td>\n",
       "      <td>11</td>\n",
       "      <td>SI</td>\n",
       "      <td>2021-11</td>\n",
       "    </tr>\n",
       "    <tr>\n",
       "      <th>3</th>\n",
       "      <td>549106</td>\n",
       "      <td>2021-04-06 12:08:00</td>\n",
       "      <td>17045.0</td>\n",
       "      <td>United Kingdom</td>\n",
       "      <td>1</td>\n",
       "      <td>39.95</td>\n",
       "      <td>2021</td>\n",
       "      <td>04</td>\n",
       "      <td>SI</td>\n",
       "      <td>2021-04</td>\n",
       "    </tr>\n",
       "    <tr>\n",
       "      <th>4</th>\n",
       "      <td>573112</td>\n",
       "      <td>2021-10-27 15:33:00</td>\n",
       "      <td>16416.0</td>\n",
       "      <td>United Kingdom</td>\n",
       "      <td>357</td>\n",
       "      <td>344.83</td>\n",
       "      <td>2021</td>\n",
       "      <td>10</td>\n",
       "      <td>SI</td>\n",
       "      <td>2021-10</td>\n",
       "    </tr>\n",
       "    <tr>\n",
       "      <th>5</th>\n",
       "      <td>576630</td>\n",
       "      <td>2021-11-16 08:38:00</td>\n",
       "      <td>13816.0</td>\n",
       "      <td>Germany</td>\n",
       "      <td>91</td>\n",
       "      <td>199.98</td>\n",
       "      <td>2021</td>\n",
       "      <td>11</td>\n",
       "      <td>NO</td>\n",
       "      <td>2021-11</td>\n",
       "    </tr>\n",
       "  </tbody>\n",
       "</table>\n",
       "</div>"
      ],
      "text/plain": [
       "  N° de factura    Fecha de factura  ID Cliente            País  Cantidad  \\\n",
       "0        548370 2021-03-30 16:14:00     15528.0  United Kingdom       123   \n",
       "1        575767 2021-11-11 11:11:00     17348.0  United Kingdom       163   \n",
       "3        549106 2021-04-06 12:08:00     17045.0  United Kingdom         1   \n",
       "4        573112 2021-10-27 15:33:00     16416.0  United Kingdom       357   \n",
       "5        576630 2021-11-16 08:38:00     13816.0         Germany        91   \n",
       "\n",
       "    Monto   Año Mes Pertenece a UK  Año-Mes  \n",
       "0  229.33  2021  03             SI  2021-03  \n",
       "1  209.73  2021  11             SI  2021-11  \n",
       "3   39.95  2021  04             SI  2021-04  \n",
       "4  344.83  2021  10             SI  2021-10  \n",
       "5  199.98  2021  11             NO  2021-11  "
      ]
     },
     "execution_count": 46,
     "metadata": {},
     "output_type": "execute_result"
    }
   ],
   "source": [
    "#Segmentamos\n",
    "# Segmentar directamente con una función lambda\n",
    "df['Pertenece a UK'] = df['País'].apply(lambda x: 'SI' if x == 'United Kingdom' else 'NO')\n",
    "\n",
    "# Mostrar resultado\n",
    "df.head()\n"
   ]
  },
  {
   "cell_type": "code",
   "execution_count": 58,
   "id": "23c95683",
   "metadata": {
    "code_folding": [
     0
    ]
   },
   "outputs": [
    {
     "data": {
      "image/png": "[encoded data removed]",
      "text/plain": [
       "<Figure size 720x288 with 1 Axes>"
      ]
     },
     "metadata": {},
     "output_type": "display_data"
    }
   ],
   "source": [
    "# Conteo de valores\n",
    "conteo_por_categoria = df['Pertenece a UK'].value_counts()\n",
    "\n",
    "# Graficar con un gráfico de barras\n",
    "sns.set(style=\"whitegrid\")\n",
    "plt.figure(figsize=(10, 4))\n",
    "\n",
    "plot = sns.barplot(x=conteo_por_categoria.index, y=conteo_por_categoria.values, palette='viridis')\n",
    "\n",
    "# Agregar títulos y etiquetas\n",
    "plt.title('Conteo de Pertenece a UK (SI/NO)')\n",
    "plt.xlabel('Pertenece a UK')\n",
    "plt.ylabel('Conteo')\n",
    "\n",
    "# Mostrar valores en las barras\n",
    "for p in plot.patches:\n",
    "    plot.annotate(format(p.get_height(), '.0f'), \n",
    "                  (p.get_x() + p.get_width() / 2., p.get_height()), \n",
    "                  ha = 'center', va = 'center', \n",
    "                  xytext = (0, 10), \n",
    "                  textcoords = 'offset points')\n",
    "\n",
    "plt.show()"
   ]
  },
  {
   "cell_type": "code",
   "execution_count": 48,
   "id": "3792f183",
   "metadata": {
    "code_folding": [
     0
    ]
   },
   "outputs": [
    {
     "data": {
      "text/html": [
       "<div>\n",
       "<style scoped>\n",
       "    .dataframe tbody tr th:only-of-type {\n",
       "        vertical-align: middle;\n",
       "    }\n",
       "\n",
       "    .dataframe tbody tr th {\n",
       "        vertical-align: top;\n",
       "    }\n",
       "\n",
       "    .dataframe thead th {\n",
       "        text-align: right;\n",
       "    }\n",
       "</style>\n",
       "<table border=\"1\" class=\"dataframe\">\n",
       "  <thead>\n",
       "    <tr style=\"text-align: right;\">\n",
       "      <th></th>\n",
       "      <th>N° de factura</th>\n",
       "      <th>Fecha de factura</th>\n",
       "      <th>ID Cliente</th>\n",
       "      <th>País</th>\n",
       "      <th>Cantidad</th>\n",
       "      <th>Monto</th>\n",
       "      <th>Año</th>\n",
       "      <th>Mes</th>\n",
       "      <th>Pertenece a UK</th>\n",
       "      <th>Año-Mes</th>\n",
       "    </tr>\n",
       "  </thead>\n",
       "  <tbody>\n",
       "    <tr>\n",
       "      <th>0</th>\n",
       "      <td>548370</td>\n",
       "      <td>2021-03-30 16:14:00</td>\n",
       "      <td>15528.0</td>\n",
       "      <td>United Kingdom</td>\n",
       "      <td>123</td>\n",
       "      <td>229.33</td>\n",
       "      <td>2021</td>\n",
       "      <td>03</td>\n",
       "      <td>SI</td>\n",
       "      <td>2021-03</td>\n",
       "    </tr>\n",
       "    <tr>\n",
       "      <th>1</th>\n",
       "      <td>575767</td>\n",
       "      <td>2021-11-11 11:11:00</td>\n",
       "      <td>17348.0</td>\n",
       "      <td>United Kingdom</td>\n",
       "      <td>163</td>\n",
       "      <td>209.73</td>\n",
       "      <td>2021</td>\n",
       "      <td>11</td>\n",
       "      <td>SI</td>\n",
       "      <td>2021-11</td>\n",
       "    </tr>\n",
       "    <tr>\n",
       "      <th>3</th>\n",
       "      <td>549106</td>\n",
       "      <td>2021-04-06 12:08:00</td>\n",
       "      <td>17045.0</td>\n",
       "      <td>United Kingdom</td>\n",
       "      <td>1</td>\n",
       "      <td>39.95</td>\n",
       "      <td>2021</td>\n",
       "      <td>04</td>\n",
       "      <td>SI</td>\n",
       "      <td>2021-04</td>\n",
       "    </tr>\n",
       "    <tr>\n",
       "      <th>4</th>\n",
       "      <td>573112</td>\n",
       "      <td>2021-10-27 15:33:00</td>\n",
       "      <td>16416.0</td>\n",
       "      <td>United Kingdom</td>\n",
       "      <td>357</td>\n",
       "      <td>344.83</td>\n",
       "      <td>2021</td>\n",
       "      <td>10</td>\n",
       "      <td>SI</td>\n",
       "      <td>2021-10</td>\n",
       "    </tr>\n",
       "    <tr>\n",
       "      <th>5</th>\n",
       "      <td>576630</td>\n",
       "      <td>2021-11-16 08:38:00</td>\n",
       "      <td>13816.0</td>\n",
       "      <td>Germany</td>\n",
       "      <td>91</td>\n",
       "      <td>199.98</td>\n",
       "      <td>2021</td>\n",
       "      <td>11</td>\n",
       "      <td>NO</td>\n",
       "      <td>2021-11</td>\n",
       "    </tr>\n",
       "  </tbody>\n",
       "</table>\n",
       "</div>"
      ],
      "text/plain": [
       "  N° de factura    Fecha de factura  ID Cliente            País  Cantidad  \\\n",
       "0        548370 2021-03-30 16:14:00     15528.0  United Kingdom       123   \n",
       "1        575767 2021-11-11 11:11:00     17348.0  United Kingdom       163   \n",
       "3        549106 2021-04-06 12:08:00     17045.0  United Kingdom         1   \n",
       "4        573112 2021-10-27 15:33:00     16416.0  United Kingdom       357   \n",
       "5        576630 2021-11-16 08:38:00     13816.0         Germany        91   \n",
       "\n",
       "    Monto   Año Mes Pertenece a UK  Año-Mes  \n",
       "0  229.33  2021  03             SI  2021-03  \n",
       "1  209.73  2021  11             SI  2021-11  \n",
       "3   39.95  2021  04             SI  2021-04  \n",
       "4  344.83  2021  10             SI  2021-10  \n",
       "5  199.98  2021  11             NO  2021-11  "
      ]
     },
     "execution_count": 48,
     "metadata": {},
     "output_type": "execute_result"
    }
   ],
   "source": [
    "#Analizamos por fechas\n",
    "df['Año-Mes'] = df['Fecha de factura'].apply(lambda x: datetime.datetime.strftime(x, '%Y-%m'))\n",
    "#Mostramos resultado\n",
    "df.head()"
   ]
  },
  {
   "cell_type": "code",
   "execution_count": 57,
   "id": "21f7b938",
   "metadata": {
    "code_folding": [
     0
    ],
    "scrolled": true
   },
   "outputs": [
    {
     "data": {
      "image/png": "[encoded data removed]",
      "text/plain": [
       "<Figure size 720x288 with 1 Axes>"
      ]
     },
     "metadata": {},
     "output_type": "display_data"
    }
   ],
   "source": [
    "# Agrupar las ventas por ubicación\n",
    "ventas_por_fecha_y_ubicacion = df.groupby(['Mes', 'Pertenece a UK'])['Monto'].sum().reset_index()\n",
    "\n",
    "# Filtrar solo las categorías 'SI' y 'NO'\n",
    "ventas_si = ventas_por_fecha_y_ubicacion[ventas_por_fecha_y_ubicacion['Pertenece a UK'] == 'SI']\n",
    "ventas_no = ventas_por_fecha_y_ubicacion[ventas_por_fecha_y_ubicacion['Pertenece a UK'] == 'NO']\n",
    "\n",
    "# Graficar con Seaborn\n",
    "sns.set(style=\"whitegrid\")\n",
    "plt.figure(figsize=(10, 4))\n",
    "\n",
    "# Usar un gráfico de líneas\n",
    "sns.lineplot(x='Mes', y='Monto', data=ventas_si, label='SI', marker='o')\n",
    "sns.lineplot(x='Mes', y='Monto', data=ventas_no, label='NO', marker='o')\n",
    "\n",
    "# Agregar títulos y etiquetas\n",
    "plt.title('Evolución de Ventas entre dentro y fuera de UK')\n",
    "plt.xlabel('Mes')\n",
    "plt.ylabel('Monto')\n",
    "\n",
    "plt.legend()  # Mostrar leyenda\n",
    "\n",
    "plt.show()"
   ]
  },
  {
   "cell_type": "markdown",
   "id": "77759f65",
   "metadata": {},
   "source": [
    "En resumen, el estudio destaca la importancia de UK en términos de volumen de ventas, pero también señala diferencias notables en el comportamiento de compra entre países, así como posibles errores en la entrada de datos que deben abordarse para garantizar la integridad de los resultados."
   ]
  }
 ],
 "metadata": {
  "hide_input": false,
  "kernelspec": {
   "display_name": "Python 3 (ipykernel)",
   "language": "python",
   "name": "python3"
  },
  "language_info": {
   "codemirror_mode": {
    "name": "ipython",
    "version": 3
   },
   "file_extension": ".py",
   "mimetype": "text/x-python",
   "name": "python",
   "nbconvert_exporter": "python",
   "pygments_lexer": "ipython3",
   "version": "3.7.7"
  },
  "toc": {
   "base_numbering": 1,
   "nav_menu": {},
   "number_sections": true,
   "sideBar": true,
   "skip_h1_title": false,
   "title_cell": "Table of Contents",
   "title_sidebar": "Contents",
   "toc_cell": false,
   "toc_position": {},
   "toc_section_display": true,
   "toc_window_display": false
  },
  "varInspector": {
   "cols": {
    "lenName": 16,
    "lenType": 16,
    "lenVar": 40
   },
   "kernels_config": {
    "python": {
     "delete_cmd_postfix": "",
     "delete_cmd_prefix": "del ",
     "library": "var_list.py",
     "varRefreshCmd": "print(var_dic_list())"
    },
    "r": {
     "delete_cmd_postfix": ") ",
     "delete_cmd_prefix": "rm(",
     "library": "var_list.r",
     "varRefreshCmd": "cat(var_dic_list()) "
    }
   },
   "types_to_exclude": [
    "module",
    "function",
    "builtin_function_or_method",
    "instance",
    "_Feature"
   ],
   "window_display": false
  }
 },
 "nbformat": 4,
 "nbformat_minor": 5
}
